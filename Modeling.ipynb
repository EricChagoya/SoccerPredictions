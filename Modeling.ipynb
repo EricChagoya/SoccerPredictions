{
 "cells": [
  {
   "cell_type": "code",
   "execution_count": 213,
   "metadata": {},
   "outputs": [],
   "source": [
    "import pandas as pd\n",
    "import numpy as np\n",
    "import matplotlib.pyplot as plt\n",
    "import seaborn as sns\n",
    "np.random.seed(31415)"
   ]
  },
  {
   "cell_type": "markdown",
   "metadata": {},
   "source": [
    "## Creating dataset with reddit features"
   ]
  },
  {
   "cell_type": "markdown",
   "metadata": {},
   "source": [
    "Making new dataset containing reddit features with home_team and away_team"
   ]
  },
  {
   "cell_type": "code",
   "execution_count": 219,
   "metadata": {},
   "outputs": [],
   "source": [
    "dt = pd.read_csv('/Users/bradyhong/Downloads/recency_filled_null.csv')"
   ]
  },
  {
   "cell_type": "code",
   "execution_count": 220,
   "metadata": {
    "scrolled": true
   },
   "outputs": [
    {
     "data": {
      "text/html": [
       "<div>\n",
       "<style scoped>\n",
       "    .dataframe tbody tr th:only-of-type {\n",
       "        vertical-align: middle;\n",
       "    }\n",
       "\n",
       "    .dataframe tbody tr th {\n",
       "        vertical-align: top;\n",
       "    }\n",
       "\n",
       "    .dataframe thead th {\n",
       "        text-align: right;\n",
       "    }\n",
       "</style>\n",
       "<table border=\"1\" class=\"dataframe\">\n",
       "  <thead>\n",
       "    <tr style=\"text-align: right;\">\n",
       "      <th></th>\n",
       "      <th>Unnamed: 0</th>\n",
       "      <th>Unnamed: 0.1</th>\n",
       "      <th>game_date</th>\n",
       "      <th>start_season</th>\n",
       "      <th>home_team</th>\n",
       "      <th>away_team</th>\n",
       "      <th>home_score</th>\n",
       "      <th>away_score</th>\n",
       "      <th>winner</th>\n",
       "      <th>halftime_home_goals</th>\n",
       "      <th>...</th>\n",
       "      <th>t-9 home_clearance</th>\n",
       "      <th>t-9 home_tackles</th>\n",
       "      <th>t-9 away_home</th>\n",
       "      <th>t-9 away_attacking</th>\n",
       "      <th>t-9 away_defending</th>\n",
       "      <th>t-9 away_strength</th>\n",
       "      <th>t-9 away_posession</th>\n",
       "      <th>t-9 away_shots_on_target</th>\n",
       "      <th>t-9 away_clearance</th>\n",
       "      <th>t-9 away_tackles</th>\n",
       "    </tr>\n",
       "  </thead>\n",
       "  <tbody>\n",
       "    <tr>\n",
       "      <th>1</th>\n",
       "      <td>1</td>\n",
       "      <td>1</td>\n",
       "      <td>2013-08-17</td>\n",
       "      <td>2013</td>\n",
       "      <td>Swansea City</td>\n",
       "      <td>Manchester United</td>\n",
       "      <td>1</td>\n",
       "      <td>4</td>\n",
       "      <td>A</td>\n",
       "      <td>0</td>\n",
       "      <td>...</td>\n",
       "      <td>27.408568</td>\n",
       "      <td>18.475703</td>\n",
       "      <td>0.008963</td>\n",
       "      <td>1.349552</td>\n",
       "      <td>1.366197</td>\n",
       "      <td>0.032263</td>\n",
       "      <td>50.171447</td>\n",
       "      <td>4.368758</td>\n",
       "      <td>27.09347</td>\n",
       "      <td>18.565301</td>\n",
       "    </tr>\n",
       "  </tbody>\n",
       "</table>\n",
       "<p>1 rows × 213 columns</p>\n",
       "</div>"
      ],
      "text/plain": [
       "   Unnamed: 0  Unnamed: 0.1   game_date  start_season     home_team  \\\n",
       "1           1             1  2013-08-17          2013  Swansea City   \n",
       "\n",
       "           away_team  home_score  away_score winner  halftime_home_goals  ...  \\\n",
       "1  Manchester United           1           4      A                    0  ...   \n",
       "\n",
       "   t-9 home_clearance t-9 home_tackles t-9 away_home  t-9 away_attacking  \\\n",
       "1           27.408568        18.475703      0.008963            1.349552   \n",
       "\n",
       "   t-9 away_defending  t-9 away_strength  t-9 away_posession  \\\n",
       "1            1.366197           0.032263           50.171447   \n",
       "\n",
       "   t-9 away_shots_on_target  t-9 away_clearance  t-9 away_tackles  \n",
       "1                  4.368758            27.09347         18.565301  \n",
       "\n",
       "[1 rows x 213 columns]"
      ]
     },
     "execution_count": 220,
     "metadata": {},
     "output_type": "execute_result"
    }
   ],
   "source": [
    "dt[1:2]"
   ]
  },
  {
   "cell_type": "code",
   "execution_count": 221,
   "metadata": {},
   "outputs": [],
   "source": [
    "x = dt.iloc[:,8:9]"
   ]
  },
  {
   "cell_type": "code",
   "execution_count": 222,
   "metadata": {},
   "outputs": [],
   "source": [
    "z = dt['reddit_home_score']"
   ]
  },
  {
   "cell_type": "code",
   "execution_count": 223,
   "metadata": {},
   "outputs": [],
   "source": [
    "z1 = dt['reddit_home_post']"
   ]
  },
  {
   "cell_type": "code",
   "execution_count": 224,
   "metadata": {},
   "outputs": [],
   "source": [
    "z2 = dt['reddit_away_score']"
   ]
  },
  {
   "cell_type": "code",
   "execution_count": 225,
   "metadata": {},
   "outputs": [],
   "source": [
    "z3 = dt['reddit_away_post']"
   ]
  },
  {
   "cell_type": "code",
   "execution_count": 226,
   "metadata": {},
   "outputs": [],
   "source": [
    "x2 = dt.iloc[:,4:6]"
   ]
  },
  {
   "cell_type": "code",
   "execution_count": 227,
   "metadata": {},
   "outputs": [],
   "source": [
    "z4 = pd.concat([z,z1], axis = 1)"
   ]
  },
  {
   "cell_type": "code",
   "execution_count": 228,
   "metadata": {},
   "outputs": [],
   "source": [
    "z4 = pd.concat([z4,z2], axis = 1)"
   ]
  },
  {
   "cell_type": "code",
   "execution_count": 229,
   "metadata": {},
   "outputs": [],
   "source": [
    "z4 = pd.concat([z4,z3], axis = 1)"
   ]
  },
  {
   "cell_type": "code",
   "execution_count": 1,
   "metadata": {},
   "outputs": [
    {
     "ename": "NameError",
     "evalue": "name 'pd' is not defined",
     "output_type": "error",
     "traceback": [
      "\u001b[0;31m---------------------------------------------------------------------------\u001b[0m",
      "\u001b[0;31mNameError\u001b[0m                                 Traceback (most recent call last)",
      "\u001b[0;32m<ipython-input-1-1bb9c09ce006>\u001b[0m in \u001b[0;36m<module>\u001b[0;34m\u001b[0m\n\u001b[0;32m----> 1\u001b[0;31m \u001b[0mx2\u001b[0m \u001b[0;34m=\u001b[0m \u001b[0mpd\u001b[0m\u001b[0;34m.\u001b[0m\u001b[0mconcat\u001b[0m\u001b[0;34m(\u001b[0m\u001b[0;34m[\u001b[0m\u001b[0mx2\u001b[0m\u001b[0;34m,\u001b[0m\u001b[0mz4\u001b[0m\u001b[0;34m]\u001b[0m\u001b[0;34m,\u001b[0m \u001b[0maxis\u001b[0m \u001b[0;34m=\u001b[0m \u001b[0;36m1\u001b[0m\u001b[0;34m)\u001b[0m\u001b[0;34m\u001b[0m\u001b[0;34m\u001b[0m\u001b[0m\n\u001b[0m",
      "\u001b[0;31mNameError\u001b[0m: name 'pd' is not defined"
     ]
    }
   ],
   "source": [
    "x2 = pd.concat([x2,z4], axis = 1)"
   ]
  },
  {
   "cell_type": "markdown",
   "metadata": {},
   "source": [
    "## Dropping unneccessary features"
   ]
  },
  {
   "cell_type": "code",
   "execution_count": 232,
   "metadata": {},
   "outputs": [],
   "source": [
    "dt_drop = dt.drop(['home_strength', 'away_strength',\n",
    "                   't-1 home_tackles', 't-1 away_tackles',\n",
    "               't-2 home_tackles', 't-2 away_tackles',\n",
    "               't-3 home_tackles', 't-3 away_tackles',\n",
    "               't-4 home_tackles', 't-4 away_tackles',\n",
    "               't-5 home_tackles', 't-5 away_tackles',\n",
    "               't-6 home_tackles', 't-6 away_tackles',\n",
    "               't-7 home_tackles', 't-7 away_tackles',\n",
    "               't-8 home_tackles', 't-8 away_tackles',\n",
    "               't-9 home_tackles', 't-9 away_tackles',\n",
    "                't-1 home_clearance', 't-1 away_clearance',\n",
    "               't-2 home_clearance', 't-2 away_clearance',\n",
    "               't-3 home_clearance', 't-3 away_clearance',\n",
    "               't-4 home_clearance', 't-4 away_clearance',\n",
    "               't-5 home_clearance', 't-5 away_clearance',\n",
    "               't-6 home_clearance', 't-6 away_clearance',\n",
    "               't-7 home_clearance', 't-7 away_clearance',\n",
    "               't-8 home_clearance', 't-8 away_clearance',\n",
    "               't-9 home_clearance', 't-9 away_clearance',], axis=1)\n"
   ]
  },
  {
   "cell_type": "markdown",
   "metadata": {},
   "source": [
    "## Ranked Probability Score"
   ]
  },
  {
   "cell_type": "markdown",
   "metadata": {},
   "source": [
    "For each match, we calculated the predicted probabilities for A(away team wins the game), D(draws) and H(home team wins the game) and store these 3 probabilities into a vector p = (p_a, p_d, p_h) with p_a + p_d + p_h = 1."
   ]
  },
  {
   "cell_type": "code",
   "execution_count": 233,
   "metadata": {},
   "outputs": [],
   "source": [
    "def rankedProbabilityScore(pred, obs):\n",
    "    r = len(pred)\n",
    "    score = 0\n",
    "    for i in range(0,r):\n",
    "        sp = 0\n",
    "        sa = 0\n",
    "        for j in range(0,i):\n",
    "            sp = sp + pred[j] \n",
    "            sa = sa + obs[j] \n",
    "            score = score + (sp-sa)**2\n",
    "    score == score/(r-1)\n",
    "    return(score)"
   ]
  },
  {
   "cell_type": "markdown",
   "metadata": {},
   "source": [
    "## Deteremining the model"
   ]
  },
  {
   "cell_type": "markdown",
   "metadata": {},
   "source": [
    "Compared K-nearest neighbors and Logistic Regression by lowest mean RPS(Ranked Probability Score) for each game depth. We aggregated recency features with reddit score and total posts and used that dataset."
   ]
  },
  {
   "cell_type": "code",
   "execution_count": 234,
   "metadata": {},
   "outputs": [
    {
     "ename": "KeyboardInterrupt",
     "evalue": "",
     "output_type": "error",
     "traceback": [
      "\u001b[0;31m---------------------------------------------------------------------------\u001b[0m",
      "\u001b[0;31mKeyboardInterrupt\u001b[0m                         Traceback (most recent call last)",
      "\u001b[0;32m<ipython-input-234-66a9a3d6c173>\u001b[0m in \u001b[0;36m<module>\u001b[0;34m\u001b[0m\n\u001b[1;32m     31\u001b[0m     \u001b[0;31m# Calculating error for K values between 1 and 40\u001b[0m\u001b[0;34m\u001b[0m\u001b[0;34m\u001b[0m\u001b[0;34m\u001b[0m\u001b[0m\n\u001b[1;32m     32\u001b[0m     \u001b[0;32mfor\u001b[0m \u001b[0mk\u001b[0m \u001b[0;32min\u001b[0m \u001b[0mrange\u001b[0m\u001b[0;34m(\u001b[0m\u001b[0;36m1\u001b[0m\u001b[0;34m,\u001b[0m \u001b[0;36m200\u001b[0m\u001b[0;34m)\u001b[0m\u001b[0;34m:\u001b[0m\u001b[0;34m\u001b[0m\u001b[0;34m\u001b[0m\u001b[0m\n\u001b[0;32m---> 33\u001b[0;31m         \u001b[0mknn\u001b[0m \u001b[0;34m=\u001b[0m \u001b[0mKNeighborsClassifier\u001b[0m\u001b[0;34m(\u001b[0m\u001b[0mn_neighbors\u001b[0m\u001b[0;34m=\u001b[0m\u001b[0mk\u001b[0m\u001b[0;34m)\u001b[0m\u001b[0;34m\u001b[0m\u001b[0;34m\u001b[0m\u001b[0m\n\u001b[0m\u001b[1;32m     34\u001b[0m         \u001b[0mknn\u001b[0m\u001b[0;34m.\u001b[0m\u001b[0mfit\u001b[0m\u001b[0;34m(\u001b[0m\u001b[0mX_train\u001b[0m\u001b[0;34m,\u001b[0m \u001b[0my_train\u001b[0m\u001b[0;34m)\u001b[0m\u001b[0;34m\u001b[0m\u001b[0;34m\u001b[0m\u001b[0m\n\u001b[1;32m     35\u001b[0m         \u001b[0mpred_i\u001b[0m \u001b[0;34m=\u001b[0m \u001b[0mknn\u001b[0m\u001b[0;34m.\u001b[0m\u001b[0mpredict\u001b[0m\u001b[0;34m(\u001b[0m\u001b[0mX_test\u001b[0m\u001b[0;34m)\u001b[0m\u001b[0;34m\u001b[0m\u001b[0;34m\u001b[0m\u001b[0m\n",
      "\u001b[0;32m~/opt/anaconda3/lib/python3.8/site-packages/sklearn/utils/validation.py\u001b[0m in \u001b[0;36minner_f\u001b[0;34m(*args, **kwargs)\u001b[0m\n\u001b[1;32m     60\u001b[0m     \u001b[0;34m@\u001b[0m\u001b[0mwraps\u001b[0m\u001b[0;34m(\u001b[0m\u001b[0mf\u001b[0m\u001b[0;34m)\u001b[0m\u001b[0;34m\u001b[0m\u001b[0;34m\u001b[0m\u001b[0m\n\u001b[1;32m     61\u001b[0m     \u001b[0;32mdef\u001b[0m \u001b[0minner_f\u001b[0m\u001b[0;34m(\u001b[0m\u001b[0;34m*\u001b[0m\u001b[0margs\u001b[0m\u001b[0;34m,\u001b[0m \u001b[0;34m**\u001b[0m\u001b[0mkwargs\u001b[0m\u001b[0;34m)\u001b[0m\u001b[0;34m:\u001b[0m\u001b[0;34m\u001b[0m\u001b[0;34m\u001b[0m\u001b[0m\n\u001b[0;32m---> 62\u001b[0;31m         \u001b[0mextra_args\u001b[0m \u001b[0;34m=\u001b[0m \u001b[0mlen\u001b[0m\u001b[0;34m(\u001b[0m\u001b[0margs\u001b[0m\u001b[0;34m)\u001b[0m \u001b[0;34m-\u001b[0m \u001b[0mlen\u001b[0m\u001b[0;34m(\u001b[0m\u001b[0mall_args\u001b[0m\u001b[0;34m)\u001b[0m\u001b[0;34m\u001b[0m\u001b[0;34m\u001b[0m\u001b[0m\n\u001b[0m\u001b[1;32m     63\u001b[0m         \u001b[0;32mif\u001b[0m \u001b[0mextra_args\u001b[0m \u001b[0;34m>\u001b[0m \u001b[0;36m0\u001b[0m\u001b[0;34m:\u001b[0m\u001b[0;34m\u001b[0m\u001b[0;34m\u001b[0m\u001b[0m\n\u001b[1;32m     64\u001b[0m             \u001b[0;31m# ignore first 'self' argument for instance methods\u001b[0m\u001b[0;34m\u001b[0m\u001b[0;34m\u001b[0m\u001b[0;34m\u001b[0m\u001b[0m\n",
      "\u001b[0;31mKeyboardInterrupt\u001b[0m: "
     ]
    }
   ],
   "source": [
    "d = {}\n",
    "d1 = {}\n",
    "e = {}\n",
    "knns = []\n",
    "log_mean = []\n",
    "np.random.seed(31415)\n",
    "from sklearn.model_selection import train_test_split\n",
    "from sklearn.preprocessing import StandardScaler\n",
    "from sklearn.neighbors import KNeighborsClassifier\n",
    "from sklearn.linear_model import LogisticRegression\n",
    "for i in range(67,176,12):\n",
    "    x1 = dt_drop.iloc[:,67:i]\n",
    "    x3 = pd.concat([x1,x], axis = 1)\n",
    "    dt_new = pd.concat([x2,x3], axis = 1)\n",
    "    X = dt_new.iloc[:, 3:-1].values\n",
    "    y = dt_new.iloc[:, dt_new.shape[1]-1].values\n",
    "    X_train, X_test, y_train, y_test = train_test_split(X, y, test_size=0.08)\n",
    "    scaler = StandardScaler()\n",
    "    scaler.fit(X_train)\n",
    "    X_train = scaler.transform(X_train)\n",
    "    X_test = scaler.transform(X_test)\n",
    "    error = []\n",
    "    p_y = []\n",
    "    for j in y_test:\n",
    "        if j == 'A':\n",
    "            p_y.append(np.array([1, 0, 0]))\n",
    "        elif j == 'D':\n",
    "            p_y.append(np.array([0, 1, 0]))\n",
    "        else:\n",
    "            p_y.append(np.array([0, 0, 1]))\n",
    "    # Calculating error for K values between 1 and 200\n",
    "    for k in range(1, 200):\n",
    "        knn = KNeighborsClassifier(n_neighbors=k)\n",
    "        knn.fit(X_train, y_train)\n",
    "        pred_i = knn.predict(X_test)\n",
    "        p_test = knn.predict_proba(X_test)\n",
    "        rps=[]\n",
    "        for m in range(len(p_test)):\n",
    "            temp = rankedProbabilityScore(p_test[m], p_y[m])\n",
    "            rps.append(temp)\n",
    "        error.append(np.mean(rps))\n",
    "    a = min(error)\n",
    "    knns.append(error.index(a))\n",
    "    e[i] = error\n",
    "    d[i] = a\n",
    "    for n in range(0,len(error)):\n",
    "        if error[n]==a:\n",
    "            d1[n] = i\n",
    "    # Fitting Logistic Regression\n",
    "    clf = LogisticRegression(random_state=0).fit(X_train, y_train)\n",
    "    pred_clf = clf.predict_proba(X_test)\n",
    "    rps_log =[]\n",
    "    for i in range(len(pred_clf)):\n",
    "        temp = rankedProbabilityScore(pred_clf[i], p_y[i])\n",
    "        rps_log.append(temp)\n",
    "    log_mean.append(np.mean(rps_log))"
   ]
  },
  {
   "cell_type": "code",
   "execution_count": 185,
   "metadata": {
    "scrolled": true
   },
   "outputs": [
    {
     "data": {
      "text/plain": [
       "[0.6542854418542455,\n",
       " 0.5832096055690018,\n",
       " 0.5865956238923363,\n",
       " 0.5782812083019514,\n",
       " 0.5798706333958246,\n",
       " 0.5470528804163014,\n",
       " 0.6282624947544364,\n",
       " 0.5535059404846179,\n",
       " 0.6004269540065419,\n",
       " 0.733275167909851]"
      ]
     },
     "execution_count": 185,
     "metadata": {},
     "output_type": "execute_result"
    }
   ],
   "source": [
    "# Lowest Mean RPS Score from the logistic regression with each depth (ascending order)\n",
    "log_mean"
   ]
  },
  {
   "cell_type": "code",
   "execution_count": 186,
   "metadata": {},
   "outputs": [
    {
     "data": {
      "text/plain": [
       "[116, 168, 33, 35, 197, 17, 14, 12, 28, 28]"
      ]
     },
     "execution_count": 186,
     "metadata": {},
     "output_type": "execute_result"
    }
   ],
   "source": [
    "# Best knn out of 200 from each depth (ascending order)\n",
    "knns"
   ]
  },
  {
   "cell_type": "code",
   "execution_count": 189,
   "metadata": {},
   "outputs": [],
   "source": [
    "val = []\n",
    "for i in d.values():\n",
    "    val.append(i)"
   ]
  },
  {
   "cell_type": "code",
   "execution_count": 188,
   "metadata": {
    "scrolled": true
   },
   "outputs": [
    {
     "data": {
      "text/plain": [
       "{67: 0.6117792838440612,\n",
       " 79: 0.6229184178540956,\n",
       " 91: 0.6040533860603065,\n",
       " 103: 0.5811577554998607,\n",
       " 115: 0.5845185737530234,\n",
       " 127: 0.4990485472941614,\n",
       " 139: 0.5590643274853804,\n",
       " 151: 0.5456689059927927,\n",
       " 163: 0.5784467113085926,\n",
       " 175: 0.6264293313545456}"
      ]
     },
     "execution_count": 188,
     "metadata": {},
     "output_type": "execute_result"
    }
   ],
   "source": [
    "# Lowest Mean RPS Score from knn with each depth (ascending order)\n",
    "d"
   ]
  },
  {
   "cell_type": "markdown",
   "metadata": {},
   "source": [
    "## Graphs "
   ]
  },
  {
   "cell_type": "code",
   "execution_count": 190,
   "metadata": {},
   "outputs": [
    {
     "data": {
      "text/plain": [
       "Text(0, 0.5, 'Mean RPS')"
      ]
     },
     "execution_count": 190,
     "metadata": {},
     "output_type": "execute_result"
    },
    {
     "data": {
      "image/png": "[encoded data removed]",
      "text/plain": [
       "<Figure size 864x432 with 1 Axes>"
      ]
     },
     "metadata": {
      "needs_background": "light"
     },
     "output_type": "display_data"
    }
   ],
   "source": [
    "plt.figure(figsize=(12, 6))\n",
    "plt.plot(range(1, 200), e[127], color='red', linestyle='dashed', marker='o',\n",
    "         markerfacecolor='grey', markersize=10)\n",
    "plt.title('Mean RPS of each k values for game depth 5', size=20)\n",
    "plt.xlabel('K Value',size=18)\n",
    "plt.ylabel('Mean RPS',size=18)\n",
    "\n",
    "# k = 17"
   ]
  },
  {
   "cell_type": "markdown",
   "metadata": {},
   "source": [
    "For the k-nearest neighbor, we tested k values from 1 to 200 and evaluated each K with mean RPS. According to Figure 8, k = 17 had the lowest mean RPS = 0.499 when we chose game depth of 5. We have selected 0.08 percent of the data which are 350 games to be our test data."
   ]
  },
  {
   "cell_type": "code",
   "execution_count": 191,
   "metadata": {},
   "outputs": [
    {
     "data": {
      "text/plain": [
       "Text(0, 0.5, 'Mean RPS')"
      ]
     },
     "execution_count": 191,
     "metadata": {},
     "output_type": "execute_result"
    },
    {
     "data": {
      "image/png": "[encoded data removed]",
      "text/plain": [
       "<Figure size 864x432 with 1 Axes>"
      ]
     },
     "metadata": {
      "needs_background": "light"
     },
     "output_type": "display_data"
    }
   ],
   "source": [
    "plt.figure(figsize=(12, 6))\n",
    "plt.plot(range(10), val, color='blue', linestyle='dashed', marker='o',\n",
    "         markerfacecolor= 'skyblue', markersize=10, label = \"KNN\")\n",
    "plt.plot(range(10), log_mean, color='black', linestyle='dashed', marker='o',\n",
    "         markerfacecolor= 'grey', markersize=10, label = \"logistic\")\n",
    "plt.legend(prop={'size': 15})\n",
    "plt.title('Lowest Mean RPS for KNN and Logistic Regression', size = 25)\n",
    "plt.xticks(range(10))\n",
    "plt.xlabel('Game Depth', size = 18)\n",
    "plt.ylabel('Mean RPS', size = 18)"
   ]
  },
  {
   "cell_type": "markdown",
   "metadata": {},
   "source": [
    "The best result was using K-nearest neighbors with game depth of 5"
   ]
  },
  {
   "cell_type": "code",
   "execution_count": 2,
   "metadata": {},
   "outputs": [
    {
     "ename": "SyntaxError",
     "evalue": "invalid syntax (<ipython-input-2-1223949793e1>, line 1)",
     "output_type": "error",
     "traceback": [
      "\u001b[0;36m  File \u001b[0;32m\"<ipython-input-2-1223949793e1>\"\u001b[0;36m, line \u001b[0;32m1\u001b[0m\n\u001b[0;31m    `brew install libomp`\u001b[0m\n\u001b[0m    ^\u001b[0m\n\u001b[0;31mSyntaxError\u001b[0m\u001b[0;31m:\u001b[0m invalid syntax\n"
     ]
    }
   ],
   "source": [
    "`brew install libomp`"
   ]
  }
 ],
 "metadata": {
  "kernelspec": {
   "display_name": "Python 3",
   "language": "python",
   "name": "python3"
  },
  "language_info": {
   "codemirror_mode": {
    "name": "ipython",
    "version": 3
   },
   "file_extension": ".py",
   "mimetype": "text/x-python",
   "name": "python",
   "nbconvert_exporter": "python",
   "pygments_lexer": "ipython3",
   "version": "3.8.3"
  }
 },
 "nbformat": 4,
 "nbformat_minor": 4
}
