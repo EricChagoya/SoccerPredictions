{
 "cells": [
  {
   "cell_type": "code",
   "execution_count": 1,
   "metadata": {},
   "outputs": [],
   "source": [
    "import numpy as np\n",
    "import pandas as pd"
   ]
  },
  {
   "cell_type": "code",
   "execution_count": 2,
   "metadata": {},
   "outputs": [
    {
     "name": "stderr",
     "output_type": "stream",
     "text": [
      "b'Skipping line 305: expected 57 fields, saw 72\\nSkipping line 306: expected 57 fields, saw 72\\nSkipping line 307: expected 57 fields, saw 72\\nSkipping line 308: expected 57 fields, saw 72\\nSkipping line 309: expected 57 fields, saw 72\\nSkipping line 310: expected 57 fields, saw 72\\nSkipping line 311: expected 57 fields, saw 72\\nSkipping line 312: expected 57 fields, saw 72\\nSkipping line 313: expected 57 fields, saw 72\\nSkipping line 314: expected 57 fields, saw 72\\nSkipping line 315: expected 57 fields, saw 72\\nSkipping line 316: expected 57 fields, saw 72\\nSkipping line 317: expected 57 fields, saw 72\\nSkipping line 318: expected 57 fields, saw 72\\nSkipping line 319: expected 57 fields, saw 72\\nSkipping line 320: expected 57 fields, saw 72\\nSkipping line 321: expected 57 fields, saw 72\\nSkipping line 322: expected 57 fields, saw 72\\nSkipping line 323: expected 57 fields, saw 72\\nSkipping line 324: expected 57 fields, saw 72\\nSkipping line 325: expected 57 fields, saw 72\\nSkipping line 326: expected 57 fields, saw 72\\nSkipping line 327: expected 57 fields, saw 72\\nSkipping line 328: expected 57 fields, saw 72\\nSkipping line 329: expected 57 fields, saw 72\\nSkipping line 330: expected 57 fields, saw 72\\nSkipping line 331: expected 57 fields, saw 72\\nSkipping line 332: expected 57 fields, saw 72\\nSkipping line 333: expected 57 fields, saw 72\\nSkipping line 334: expected 57 fields, saw 72\\nSkipping line 335: expected 57 fields, saw 72\\nSkipping line 336: expected 57 fields, saw 72\\nSkipping line 369: expected 57 fields, saw 62\\nSkipping line 370: expected 57 fields, saw 62\\nSkipping line 371: expected 57 fields, saw 62\\nSkipping line 372: expected 57 fields, saw 62\\nSkipping line 373: expected 57 fields, saw 62\\nSkipping line 374: expected 57 fields, saw 62\\nSkipping line 375: expected 57 fields, saw 62\\nSkipping line 376: expected 57 fields, saw 62\\nSkipping line 377: expected 57 fields, saw 62\\nSkipping line 378: expected 57 fields, saw 62\\nSkipping line 379: expected 57 fields, saw 62\\nSkipping line 380: expected 57 fields, saw 62\\nSkipping line 381: expected 57 fields, saw 62\\n'\n"
     ]
    }
   ],
   "source": [
    "df2003 = pd.read_csv(\"SoccerFiles/PLGames2003.csv\", error_bad_lines = False)"
   ]
  },
  {
   "cell_type": "code",
   "execution_count": 13,
   "metadata": {},
   "outputs": [
    {
     "name": "stdout",
     "output_type": "stream",
     "text": [
      "Index(['HomeTeam', 'AwayTeam', 'FTHG', 'FTAG', 'FTR', 'HTHG', 'HTAG', 'HTR',\n",
      "       'Referee', 'HS', 'AS', 'HST', 'AST', 'HF', 'AF', 'HC', 'AC', 'HY', 'AY',\n",
      "       'HR', 'AR'],\n",
      "      dtype='object')\n"
     ]
    }
   ],
   "source": [
    "#print(df2003.columns)\n",
    "columns = ['HomeTeam', 'AwayTeam', 'FTHG', 'FTAG', \n",
    "           'FTR', 'HTHG', 'HTAG', 'HTR', 'Referee', 'HS', 'AS', 'HST', \n",
    "           'AST', 'HF', 'AF', 'HC', 'AC', 'HY', 'AY', 'HR', 'AR']\n",
    "\n",
    "df2003 = df2003[columns]\n",
    "\n",
    "print(df2003.columns)\n",
    "\n"
   ]
  },
  {
   "cell_type": "code",
   "execution_count": 15,
   "metadata": {},
   "outputs": [],
   "source": [
    "years = {}\n",
    "features = {'HomeGoals': 0, 'AwayGoals': 0, \n",
    "            'Wins': 0, 'Losses': 0, 'Draws': 0,\n",
    "            'HalfTimeHomeGoals': 0, 'HalfTimeAwayGoals': 0,\n",
    "            'HalfTimeWins' : 0, 'HalfTimeLosses' : 0, \n",
    "            'HalfTimeDraws': 0,\n",
    "            'HalfTimeChoke': 0, # They were winning at halftime but lost the game\n",
    "            'HalfTimeClutch': 0, # They were losing at halftime but won the game\n",
    "            # Number of times they were winning but lost\n",
    "            # \n",
    "            'AVGCrowd': 0, 'AVGHomeShots': 0, 'AVGAwayShots': 0,\n",
    "            'AVGHomeWoodwork': 0, 'AVGAwayWoodwork': 0, \n",
    "            'AVGHomeCorners': 0, 'AVGAwayCorners': 0,\n",
    "            'AVGHomeFouls': 0, 'AVGAwayFouls': 0,\n",
    "            'AVGHomeFreeKicks': 0, 'AVGAwayFreeKicks': 0,\n",
    "            'AVGHomeOffsides': 0, 'AVGAwayOffsides': 0,\n",
    "            'AVGHomeYellow': 0, 'AVGAwayYellow': 0,\n",
    "            'AVGHomeRed': 0, 'AVGAwayRed': 0,\n",
    "            'Won15': 0, 'Won25': 0\n",
    "           }\n",
    "# I'm not sure how to include Referee"
   ]
  },
  {
   "cell_type": "code",
   "execution_count": 14,
   "metadata": {},
   "outputs": [
    {
     "name": "stdout",
     "output_type": "stream",
     "text": [
      "Arsenal\n",
      "{'HomeGoals': 3, 'AwayGoals': 0, 'Wins': 1, 'Losses': 0, 'Draws': 0, 'HalfTimeHomeGoals': 0, 'HalfTimeAwayGoals': 0, 'HalfTimeResult': 0, 'HalfTimeLoseButWin': 0, 'HalfTimeWinButLose': 0, 'AVGCrowd': 0, 'AVGHomeShots': 0, 'AVGAwayShots': 0, 'AVGHomeWoodwork': 0, 'AVGAwayWoodwork': 0, 'AVGHomeCorners': 0, 'AVGAwayCorners': 0, 'AVGHomeFouls': 0, 'AVGAwayFouls': 0, 'AVGHomeFreeKicks': 0, 'AVGAwayFreeKicks': 0, 'AVGHomeOffsides': 0, 'AVGAwayOffsides': 0, 'AVGHomeYellow': 0, 'AVGAwayYellow': 0, 'AVGHomeRed': 0, 'AVGAwayRed': 0, 'Won15': 0, 'Won25': 0}\n",
      "\n",
      "HomeTeam     Arsenal\n",
      "AwayTeam     Everton\n",
      "FTHG               2\n",
      "FTAG               1\n",
      "FTR                H\n",
      "HTHG               1\n",
      "HTAG               0\n",
      "HTR                H\n",
      "Referee     M Halsey\n",
      "HS                11\n",
      "AS                13\n",
      "HST                5\n",
      "AST                7\n",
      "HF                 8\n",
      "AF                15\n",
      "HC                 6\n",
      "AC                 9\n",
      "HY                 1\n",
      "AY                 3\n",
      "HR                 1\n",
      "AR                 1\n",
      "Name: 0, dtype: object\n"
     ]
    }
   ],
   "source": [
    "d2003 = dict()\n",
    "for index, row in df2003.iterrows():\n",
    "    if row['HomeTeam'] not in d2003:\n",
    "        d2003[row['HomeTeam']] = dict(features)\n",
    "    \n",
    "    if row['AwayTeam'] not in d2003:\n",
    "        d2003[row['AwayTeam']] = dict(features)\n",
    "    \n",
    "    \n",
    "    # Add Home Team Stats\n",
    "    d2003[row['HomeTeam']]['HomeGoals'] += row['FTHG']\n",
    "    d2003[row['HomeTeam']]['HalfTimeHomeGoals'] += row['HTHG']\n",
    "    \n",
    "    \n",
    "    # Add Away Team Stats\n",
    "    d2003[row['AwayTeam']]['AwayGoals'] = row['FTAG']\n",
    "    d2003[row['AwayTeam']]['HalfTimeAwayGoals'] += row['HTAG']\n",
    "    \n",
    "    \n",
    "    # Determine Winner\n",
    "    if row['FTR'] == 'H':\n",
    "        d2003[row['HomeTeam']]['Wins'] += 1\n",
    "        d2003[row['AwayTeam']]['Losses'] += 1\n",
    "    elif row['FTR'] == 'A':\n",
    "        d2003[row['HomeTeam']]['Losses'] += 1\n",
    "        d2003[row['AwayTeam']]['Wins'] += 1\n",
    "    else:\n",
    "        # Draw\n",
    "        d2003[row['HomeTeam']]['Draws'] += 1\n",
    "        d2003[row['AwayTeam']]['Draws'] += 1\n",
    "        \n",
    "    # Determine HalfTime Winner\n",
    "    if row['HTR'] == 'H':\n",
    "        d2003[row['HomeTeam']]['HalfTimeWins'] += 1\n",
    "        d2003[row['AwayTeam']]['HalfTimeLosses'] += 1\n",
    "    elif row['HTR'] == 'A':\n",
    "        d2003[row['HomeTeam']]['HalfTimeLosses'] += 1\n",
    "        d2003[row['AwayTeam']]['HalfTimeWins'] += 1\n",
    "    else:\n",
    "        # Draw\n",
    "        d2003[row['HomeTeam']]['HalfTimeDraws'] += 1\n",
    "        d2003[row['AwayTeam']]['HalfTimeDraws'] += 1\n",
    "    \n",
    "    \n",
    "    if (row['HTR'] == 'H') and (row['FTR'] == 'A'):\n",
    "        d2003[row['HomeTeam']]['HalfTimeChoke'] += 1\n",
    "        d2003[row['HomeTeam']]['HalfTimeClutch'] += 1\n",
    "    elif (row['HTR'] == 'A') and (row['FTR'] == 'H'):\n",
    "        d2003[row['HomeTeam']]['HalfTimeClutch'] += 1\n",
    "        d2003[row['HomeTeam']]['HalfTimeChoke'] += 1\n",
    "        \n",
    "    for k, v in d2003.items():\n",
    "        print(k)\n",
    "        print(v)\n",
    "        print()\n",
    "        break\n",
    "    \n",
    "    print(row)\n",
    "    \n",
    "    break\n"
   ]
  },
  {
   "cell_type": "code",
   "execution_count": null,
   "metadata": {},
   "outputs": [],
   "source": [
    "# Divide each \"average\" category by 38"
   ]
  },
  {
   "cell_type": "code",
   "execution_count": null,
   "metadata": {},
   "outputs": [],
   "source": []
  }
 ],
 "metadata": {
  "kernelspec": {
   "display_name": "Python 3",
   "language": "python",
   "name": "python3"
  },
  "language_info": {
   "codemirror_mode": {
    "name": "ipython",
    "version": 3
   },
   "file_extension": ".py",
   "mimetype": "text/x-python",
   "name": "python",
   "nbconvert_exporter": "python",
   "pygments_lexer": "ipython3",
   "version": "3.7.2"
  }
 },
 "nbformat": 4,
 "nbformat_minor": 4
}
