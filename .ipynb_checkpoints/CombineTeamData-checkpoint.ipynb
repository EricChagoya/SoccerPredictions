{
 "cells": [
  {
   "cell_type": "code",
   "execution_count": 1,
   "metadata": {},
   "outputs": [],
   "source": [
    "import numpy as np\n",
    "import pandas as pd"
   ]
  },
  {
   "cell_type": "code",
   "execution_count": 2,
   "metadata": {},
   "outputs": [],
   "source": [
    "# Read all the data files\n",
    "data = []\n",
    "for year in range(2003, 2020):\n",
    "    file = pd.read_csv(f'Data/GameStats/PLGames{year}.csv', error_bad_lines = False, encoding = \"ISO-8859-1\")\n",
    "    data.append(file)"
   ]
  },
  {
   "cell_type": "code",
   "execution_count": 3,
   "metadata": {},
   "outputs": [],
   "source": [
    "features = {'HomeGoals': 0, 'AwayGoals': 0, 'Games': 0,\n",
    "            'Wins': 0, 'Losses': 0, 'Draws': 0,\n",
    "            'HalfTimeHomeGoals': 0, 'HalfTimeAwayGoals': 0,\n",
    "            'HalfTimeWins' : 0, 'HalfTimeLosses' : 0, \n",
    "            'HalfTimeDraws': 0,\n",
    "            'HalfTimeChoke': 0, # They were winning at halftime but lost the game\n",
    "            'HalfTimeClutch': 0, # They were losing at halftime but won the game\n",
    "            # 'AVGCrowd': 0, \n",
    "            'AVGHomeShots': 0, 'AVGAwayShots': 0,\n",
    "            'AVGHomeShotsTarget': 0, 'AVGAwayShotsTarget': 0,\n",
    "            #'AVGHomeWoodwork': 0, 'AVGAwayWoodwork': 0, \n",
    "            'AVGHomeCorners': 0, 'AVGAwayCorners': 0,\n",
    "            'AVGHomeFouls': 0, 'AVGAwayFouls': 0,\n",
    "            #'AVGHomeFreeKicks': 0, 'AVGAwayFreeKicks': 0,\n",
    "            #'AVGHomeOffsides': 0, 'AVGAwayOffsides': 0,\n",
    "            'AVGHomeYellow': 0, 'AVGAwayYellow': 0,\n",
    "            'AVGHomeRed': 0, 'AVGAwayRed': 0,\n",
    "            'WonAtLeast2': 0, 'WonAtLeast3': 0\n",
    "           }"
   ]
  },
  {
   "cell_type": "code",
   "execution_count": 4,
   "metadata": {},
   "outputs": [],
   "source": [
    "AVGFeatures = ['AVGHomeShots', 'AVGAwayShots',\n",
    "               'AVGHomeShotsTarget', 'AVGAwayShotsTarget',\n",
    "               #'AVGHomeWoodwork', 'AVGAwayWoodwork', \n",
    "               'AVGHomeCorners', 'AVGAwayCorners',\n",
    "               'AVGHomeFouls', 'AVGAwayFouls',\n",
    "               #'AVGHomeFreeKicks', 'AVGAwayFreeKicks',\n",
    "               #'AVGHomeOffsides', 'AVGAwayOffsides',\n",
    "               'AVGHomeYellow', 'AVGAwayYellow',\n",
    "               'AVGHomeRed', 'AVGAwayRed']"
   ]
  },
  {
   "cell_type": "code",
   "execution_count": 5,
   "metadata": {},
   "outputs": [],
   "source": [
    "def HomeTeamStats(Season:{'team':{'str': int}}, row):\n",
    "    # Add Home Team Stats\n",
    "    Season[row['HomeTeam']]['HomeGoals'] += row['FTHG'] + 0\n",
    "    Season[row['HomeTeam']]['HalfTimeHomeGoals'] += row['HTHG']\n",
    "    Season[row['HomeTeam']]['AVGHomeShots'] += row['HS']\n",
    "    Season[row['HomeTeam']]['AVGHomeShotsTarget'] += row['HST']\n",
    "    #Season[row['HomeTeam']]['AVGHomeWoodwork'] += row['HHW']\n",
    "    Season[row['HomeTeam']]['AVGHomeCorners'] += row['HC']\n",
    "    Season[row['HomeTeam']]['AVGHomeFouls'] += row['HF']\n",
    "    #Season[row['HomeTeam']]['AVGHomeFreeKicks'] += row['HFKC']\n",
    "    #Season[row['HomeTeam']]['AVGHomeOffsides'] += row['HO']\n",
    "    Season[row['HomeTeam']]['AVGHomeYellow'] += row['HY']\n",
    "    Season[row['HomeTeam']]['AVGHomeRed'] += row['HR']"
   ]
  },
  {
   "cell_type": "code",
   "execution_count": 6,
   "metadata": {},
   "outputs": [],
   "source": [
    "def AwayTeamStats(Season: {'team':{'str': int}}, row):\n",
    "    # Add Away Team Stats\n",
    "    Season[row['AwayTeam']]['AwayGoals'] += row['FTAG']\n",
    "    Season[row['AwayTeam']]['HalfTimeAwayGoals'] += row['HTAG']\n",
    "    Season[row['AwayTeam']]['AVGAwayShots'] += row['AS']\n",
    "    Season[row['AwayTeam']]['AVGAwayShotsTarget'] += row['AST']\n",
    "    #Season[row['AwayTeam']]['AVGAwayWoodwork'] += row['AHW']\n",
    "    Season[row['AwayTeam']]['AVGAwayCorners'] += row['AC']\n",
    "    Season[row['AwayTeam']]['AVGAwayFouls'] += row['AF']\n",
    "    #Season[row['AwayTeam']]['AVGAwayFreeKicks'] += row['AFKC']\n",
    "    #Season[row['AwayTeam']]['AVGAwayOffsides'] += row['AO']\n",
    "    Season[row['AwayTeam']]['AVGAwayYellow'] += row['AY']\n",
    "    Season[row['AwayTeam']]['AVGAwayRed'] += row['AR']"
   ]
  },
  {
   "cell_type": "code",
   "execution_count": 7,
   "metadata": {},
   "outputs": [],
   "source": [
    "def GameWinner(Season: {'team':{'str': int}}, row):\n",
    "    # Determine Game Winner, Loser, and if there was a draw\n",
    "    # Also see if a team won by at least 2 goals\n",
    "    Season[row['HomeTeam']]['Games'] += 1\n",
    "    Season[row['AwayTeam']]['Games'] += 1\n",
    "    if row['FTR'] == 'H':\n",
    "        Season[row['HomeTeam']]['Wins'] += 1\n",
    "        Season[row['AwayTeam']]['Losses'] += 1\n",
    "        if (row['FTHG'] - row['FTAG']) >= 2:\n",
    "            Season[row['HomeTeam']]['WonAtLeast2'] += 1\n",
    "        if (row['FTHG'] - row['FTAG']) >= 3:\n",
    "            Season[row['HomeTeam']]['WonAtLeast3'] += 1\n",
    "            \n",
    "    elif row['FTR'] == 'A':\n",
    "        Season[row['HomeTeam']]['Losses'] += 1\n",
    "        Season[row['AwayTeam']]['Wins'] += 1\n",
    "        if (row['FTAG'] - row['FTHG']) >= 2:\n",
    "            Season[row['AwayTeam']]['WonAtLeast2'] += 1\n",
    "        if (row['FTAG'] - row['FTHG']) >= 3:\n",
    "            Season[row['AwayTeam']]['WonAtLeast3'] += 1\n",
    "    else:\n",
    "        # Tie\n",
    "        Season[row['HomeTeam']]['Draws'] += 1\n",
    "        Season[row['AwayTeam']]['Draws'] += 1"
   ]
  },
  {
   "cell_type": "code",
   "execution_count": 8,
   "metadata": {},
   "outputs": [],
   "source": [
    "def HalfTimeWinner(Season: {'team':{'str': int}}, row):\n",
    "    # Determine HalfTime Winner\n",
    "    if row['HTR'] == 'H':\n",
    "        Season[row['HomeTeam']]['HalfTimeWins'] += 1\n",
    "        Season[row['AwayTeam']]['HalfTimeLosses'] += 1\n",
    "    elif row['HTR'] == 'A':\n",
    "        Season[row['HomeTeam']]['HalfTimeLosses'] += 1\n",
    "        Season[row['AwayTeam']]['HalfTimeWins'] += 1\n",
    "    else:\n",
    "        # Draw\n",
    "        Season[row['HomeTeam']]['HalfTimeDraws'] += 1\n",
    "        Season[row['AwayTeam']]['HalfTimeDraws'] += 1"
   ]
  },
  {
   "cell_type": "code",
   "execution_count": 9,
   "metadata": {},
   "outputs": [],
   "source": [
    "def HalfTimeChoke(Season: {'team':{'str': int}}, row):\n",
    "    # Was the time winning by halftime and then lost the game\n",
    "    # or did the reverse happen?\n",
    "    if (row['HTR'] == 'H') and (row['FTR'] == 'A'):\n",
    "        Season[row['HomeTeam']]['HalfTimeChoke'] += 1\n",
    "        Season[row['HomeTeam']]['HalfTimeClutch'] += 1\n",
    "    elif (row['HTR'] == 'A') and (row['FTR'] == 'H'):\n",
    "        Season[row['HomeTeam']]['HalfTimeClutch'] += 1\n",
    "        Season[row['HomeTeam']]['HalfTimeChoke'] += 1"
   ]
  },
  {
   "cell_type": "code",
   "execution_count": 10,
   "metadata": {},
   "outputs": [],
   "source": [
    "def findAverage(Season: {'team':{'str': int}}, AVGFeatures: ['str']):\n",
    "    # Find the average for each feature\n",
    "    for AVGf in AVGFeatures:\n",
    "        for team, v in Season.items():\n",
    "            Season[team][AVGf] /= Season[team]['Games']"
   ]
  },
  {
   "cell_type": "code",
   "execution_count": 11,
   "metadata": {},
   "outputs": [],
   "source": [
    "def appendDataFrame(Season: {'team':{'str': int}}, AllSeasonsdf, year: int):\n",
    "    for team, v in Season.items():\n",
    "        v['Season'] = f'{year}-{year + 1}'\n",
    "        v['Team'] = team\n",
    "        AllSeasonsdf = AllSeasonsdf.append(v, ignore_index = True)\n",
    "    return AllSeasonsdf"
   ]
  },
  {
   "cell_type": "code",
   "execution_count": 12,
   "metadata": {},
   "outputs": [],
   "source": [
    "AllSeasonsdf = pd.DataFrame()\n",
    "year = 2003\n",
    "for dfSeason in data:\n",
    "    Season = dict()\n",
    "    for index, row in dfSeason.iterrows():\n",
    "        # New Team for that season\n",
    "        if row['HomeTeam'] not in Season:\n",
    "            Season[row['HomeTeam']] = dict(features)\n",
    "        if row['AwayTeam'] not in Season:\n",
    "            Season[row['AwayTeam']] = dict(features)\n",
    "        \n",
    "        HomeTeamStats(Season, row)\n",
    "        AwayTeamStats(Season, row)\n",
    "        GameWinner(Season, row)\n",
    "        HalfTimeWinner(Season, row)\n",
    "        HalfTimeChoke(Season, row)\n",
    "    \n",
    "    findAverage(Season, AVGFeatures)\n",
    "    AllSeasonsdf = appendDataFrame(Season, AllSeasonsdf, year)\n",
    "    year += 1"
   ]
  },
  {
   "cell_type": "code",
   "execution_count": 13,
   "metadata": {},
   "outputs": [
    {
     "name": "stdout",
     "output_type": "stream",
     "text": [
      "   AVGAwayCorners  AVGAwayFouls  AVGAwayRed  AVGAwayShots  AVGAwayShotsTarget  \\\n",
      "0        2.210526      6.921053    0.052632      5.552632            3.210526   \n",
      "1        2.894737      6.210526    0.052632      4.421053            2.052632   \n",
      "2        1.947368      6.684211    0.052632      3.763158            1.842105   \n",
      "3        2.500000      8.184211    0.026316      4.500000            2.421053   \n",
      "\n",
      "   AVGAwayYellow  AVGHomeCorners  AVGHomeFouls  AVGHomeRed  AVGHomeShots  ...  \\\n",
      "0       0.763158        3.105263      6.210526    0.026316      6.842105  ...   \n",
      "1       0.684211        3.473684      5.842105    0.026316      6.894737  ...   \n",
      "2       0.552632        2.921053      6.605263    0.078947      4.868421  ...   \n",
      "3       1.026316        2.710526      6.657895    0.000000      6.578947  ...   \n",
      "\n",
      "   HalfTimeHomeGoals  HalfTimeLosses  HalfTimeWins  HomeGoals  Losses  \\\n",
      "0               19.0             5.0          18.0       40.0     0.0   \n",
      "1               12.0            15.0           8.0       27.0    17.0   \n",
      "2               12.0            11.0           9.0       26.0    12.0   \n",
      "3               13.0            14.0           9.0       33.0    19.0   \n",
      "\n",
      "      Season        Team  Wins  WonAtLeast2  WonAtLeast3  \n",
      "0  2003-2004     Arsenal  26.0         12.0          6.0  \n",
      "1  2003-2004     Everton   9.0          5.0          1.0  \n",
      "2  2003-2004  Birmingham  12.0          7.0          2.0  \n",
      "3  2003-2004   Tottenham  13.0          5.0          3.0  \n",
      "\n",
      "[4 rows x 29 columns]\n"
     ]
    }
   ],
   "source": [
    "print(AllSeasonsdf[:4])"
   ]
  },
  {
   "cell_type": "code",
   "execution_count": 14,
   "metadata": {},
   "outputs": [],
   "source": [
    "AllSeasonsdf = AllSeasonsdf[['Season', 'Team', \n",
    "                             'Wins', 'Losses', 'Draws', 'Games',\n",
    "                             'HomeGoals', 'AwayGoals',\n",
    "                             'WonAtLeast2', 'WonAtLeast3',\n",
    "                             'HalfTimeWins', 'HalfTimeLosses', 'HalfTimeDraws',\n",
    "                             'HalfTimeHomeGoals', 'HalfTimeAwayGoals', \n",
    "                             'HalfTimeClutch', 'HalfTimeChoke',\n",
    "                             'AVGHomeShots', 'AVGAwayShots',\n",
    "                             'AVGHomeShotsTarget', 'AVGAwayShotsTarget',\n",
    "                             'AVGHomeYellow', 'AVGAwayYellow',\n",
    "                             'AVGHomeRed', 'AVGAwayRed', \n",
    "                             'AVGHomeFouls', 'AVGAwayFouls',\n",
    "                             'AVGHomeCorners', 'AVGAwayCorners']]"
   ]
  },
  {
   "cell_type": "code",
   "execution_count": 15,
   "metadata": {},
   "outputs": [],
   "source": [
    "AllSeasonsdf.to_csv(f'Data/CombinedTeamData.csv', index=False)"
   ]
  },
  {
   "cell_type": "code",
   "execution_count": null,
   "metadata": {},
   "outputs": [],
   "source": []
  }
 ],
 "metadata": {
  "kernelspec": {
   "display_name": "Python 3",
   "language": "python",
   "name": "python3"
  },
  "language_info": {
   "codemirror_mode": {
    "name": "ipython",
    "version": 3
   },
   "file_extension": ".py",
   "mimetype": "text/x-python",
   "name": "python",
   "nbconvert_exporter": "python",
   "pygments_lexer": "ipython3",
   "version": "3.8.2"
  }
 },
 "nbformat": 4,
 "nbformat_minor": 4
}
