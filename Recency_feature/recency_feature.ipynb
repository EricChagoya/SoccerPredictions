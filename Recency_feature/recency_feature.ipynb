{
 "cells": [
  {
   "cell_type": "code",
   "execution_count": 4,
   "metadata": {},
   "outputs": [],
   "source": [
    "import pandas as pd\n",
    "import time\n",
    "import datetime\n",
    "import csv\n",
    "import numpy as np\n",
    "pd.set_option('mode.chained_assignment',  None)"
   ]
  },
  {
   "cell_type": "code",
   "execution_count": 5,
   "metadata": {},
   "outputs": [],
   "source": [
    "# Read Combined Dataset downloaded from the github\n",
    "epl = pd.read_csv(\"/Users/bradyhong/Downloads/SoccerPredictions-afe206f8403d87d12fa83bcb62d708820034eac7/Data/Combined_Data.csv\")"
   ]
  },
  {
   "cell_type": "code",
   "execution_count": 6,
   "metadata": {},
   "outputs": [],
   "source": [
    "# Get the all the possible teams\n",
    "epl_team = set()\n",
    "epl.home_team\n",
    "for i in epl.home_team:\n",
    "    epl_team.add(i)"
   ]
  },
  {
   "cell_type": "code",
   "execution_count": 9,
   "metadata": {},
   "outputs": [],
   "source": [
    "# Making features and aggregate them to the combined dataset\n",
    "def recency(depth):\n",
    "    for a in range(depth):\n",
    "        # Making features\n",
    "        epl[\"t-\"+str(a+1)+\" home_attacking\"] = np.nan\n",
    "        epl[\"t-\"+str(a+1)+\" home_defending\"] = np.nan\n",
    "        epl[\"t-\"+str(a+1)+\" home_home\"] = np.nan\n",
    "        epl[\"t-\"+str(a+1)+\" home_strength\"] = np.nan\n",
    "        epl[\"t-\"+str(a+1)+\" home_posession\"] = np.nan\n",
    "        epl[\"t-\"+str(a+1)+\" home_shots_on_target\"] = np.nan\n",
    "        epl[\"t-\"+str(a+1)+\" home_clearance\"] = np.nan\n",
    "        epl[\"t-\"+str(a+1)+\" home_tackles\"] = np.nan\n",
    "        epl[\"home_strength\"] = np.nan\n",
    "        epl[\"t-\"+str(a+1)+\" away_home\"] = np.nan\n",
    "        epl[\"t-\"+str(a+1)+\" away_attacking\"] = np.nan\n",
    "        epl[\"t-\"+str(a+1)+\" away_defending\"] = np.nan\n",
    "        epl[\"t-\"+str(a+1)+\" away_strength\"] = np.nan\n",
    "        epl[\"t-\"+str(a+1)+\" away_posession\"] = np.nan\n",
    "        epl[\"t-\"+str(a+1)+\" away_shots_on_target\"] = np.nan\n",
    "        epl[\"t-\"+str(a+1)+\" away_clearance\"] = np.nan\n",
    "        epl[\"t-\"+str(a+1)+\" away_tackles\"] = np.nan\n",
    "        epl[\"away_strength\"] = np.nan\n",
    "    for i in epl_team:\n",
    "        home = pd.DataFrame(epl[epl.home_team == i])\n",
    "        away = pd.DataFrame(epl[epl.away_team == i])\n",
    "        new_data = pd.concat([home, away]).sort_index() # Dataset for each team i\n",
    "        index = new_data.index \n",
    "        for j in range(len(index)-depth):\n",
    "            if new_data.loc[index[j+depth], \"home_team\"] == i:\n",
    "                count = 0\n",
    "                for c in range(depth):\n",
    "                    past = new_data.loc[index[j+depth-c-1]]\n",
    "                    if i == past.home_team:\n",
    "                        new_data.loc[index[j+depth], \"t-\"+str(c+1)+\" home_attacking\"] = past.home_score\n",
    "                        new_data.loc[index[j+depth], \"t-\"+str(c+1)+\" home_defending\"] = past.away_score\n",
    "                        new_data.loc[index[j+depth], \"t-\"+str(c+1)+\" home_home\"] = 1\n",
    "                        new_data.loc[index[j+depth], \"t-\"+str(c+1)+\" home_strength\"] = past.home_strength     \n",
    "                        new_data.loc[index[j+depth], \"t-\"+str(c+1)+\" home_posession\"] = past.home_possession_percent\n",
    "                        new_data.loc[index[j+depth], \"t-\"+str(c+1)+\" home_shots_on_target\"] = past.home_shots_on_target\n",
    "                        new_data.loc[index[j+depth], \"t-\"+str(c+1)+\" home_clearance\"] = past.home_clearances\n",
    "                        new_data.loc[index[j+depth], \"t-\"+str(c+1)+\" home_tackles\"] = past.home_tackles\n",
    "                        count = count + int(past.home_score) - int(past.away_score)\n",
    "                    else:\n",
    "                        new_data.loc[index[j+depth], \"t-\"+str(c+1)+\" home_attacking\"] = past.away_score\n",
    "                        new_data.loc[index[j+depth], \"t-\"+str(c+1)+\" home_defending\"] = past.home_score\n",
    "                        new_data.loc[index[j+depth], \"t-\"+str(c+1)+\" home_home\"] = -1\n",
    "                        new_data.loc[index[j+depth], \"t-\"+str(c+1)+\" home_strength\"] = past.away_strength\n",
    "                        new_data.loc[index[j+depth], \"t-\"+str(c+1)+\" home_posession\"] = past.away_possession_percent\n",
    "                        new_data.loc[index[j+depth], \"t-\"+str(c+1)+\" home_shots_on_target\"] = past.away_shots_on_target\n",
    "                        new_data.loc[index[j+depth], \"t-\"+str(c+1)+\" home_clearance\"] = past.away_clearances\n",
    "                        new_data.loc[index[j+depth], \"t-\"+str(c+1)+\" home_tackles\"] = past.away_tackles\n",
    "                        count = count + int(past.away_score) - int(past.home_score)\n",
    "                new_data.loc[index[j+depth], \"home_strength\"] = count/depth\n",
    "            else:\n",
    "                count = 0\n",
    "                for d in range(depth):\n",
    "                    past = new_data.loc[index[j+depth-d-1]]\n",
    "                    if i == past.home_team:\n",
    "                        new_data.loc[index[j+depth], \"t-\"+str(d+1)+\" away_attacking\"] = past.home_score\n",
    "                        new_data.loc[index[j+depth], \"t-\"+str(d+1)+\" away_defending\"] = past.away_score\n",
    "                        new_data.loc[index[j+depth], \"t-\"+str(d+1)+\" away_home\"] = 1\n",
    "                        new_data.loc[index[j+depth], \"t-\"+str(d+1)+\" away_strength\"] = past.home_strength\n",
    "                        new_data.loc[index[j+depth], \"t-\"+str(d+1)+\" away_posession\"] = past.home_possession_percent\n",
    "                        new_data.loc[index[j+depth], \"t-\"+str(d+1)+\" away_shots_on_target\"] = past.home_shots_on_target\n",
    "                        new_data.loc[index[j+depth], \"t-\"+str(d+1)+\" away_clearance\"] = past.home_clearances\n",
    "                        new_data.loc[index[j+depth], \"t-\"+str(d+1)+\" away_tackles\"] = past.home_tackles\n",
    "                        count = count + int(past.home_score) - int(past.away_score)\n",
    "                    else:\n",
    "                        new_data.loc[index[j+depth], \"t-\"+str(d+1)+\" away_attacking\"] = past.away_score\n",
    "                        new_data.loc[index[j+depth], \"t-\"+str(d+1)+\" away_defending\"] = past.home_score\n",
    "                        new_data.loc[index[j+depth], \"t-\"+str(d+1)+\" away_home\"] = -1\n",
    "                        new_data.loc[index[j+depth], \"t-\"+str(d+1)+\" away_strength\"] = past.away_strength\n",
    "                        new_data.loc[index[j+depth], \"t-\"+str(d+1)+\" away_posession\"] = past.away_possession_percent\n",
    "                        new_data.loc[index[j+depth], \"t-\"+str(d+1)+\" away_shots_on_target\"] = past.away_shots_on_target\n",
    "                        new_data.loc[index[j+depth], \"t-\"+str(d+1)+\" away_clearance\"] = past.away_clearances\n",
    "                        new_data.loc[index[j+depth], \"t-\"+str(d+1)+\" away_tackles\"] = past.away_tackles\n",
    "                        count = count + int(past.away_score) - int(past.home_score)\n",
    "                new_data.loc[index[j+depth], \"away_strength\"] = count/depth\n",
    "        for x in index:\n",
    "            epl.loc[x] = new_data.loc[x]"
   ]
  },
  {
   "cell_type": "code",
   "execution_count": 17,
   "metadata": {},
   "outputs": [
    {
     "ename": "KeyboardInterrupt",
     "evalue": "",
     "output_type": "error",
     "traceback": [
      "\u001b[0;31m---------------------------------------------------------------------------\u001b[0m",
      "\u001b[0;31mKeyboardInterrupt\u001b[0m                         Traceback (most recent call last)",
      "\u001b[0;32m<ipython-input-17-049ca22c90b1>\u001b[0m in \u001b[0;36m<module>\u001b[0;34m\u001b[0m\n\u001b[0;32m----> 1\u001b[0;31m \u001b[0mrecency\u001b[0m\u001b[0;34m(\u001b[0m\u001b[0mdepth\u001b[0m \u001b[0;34m=\u001b[0m \u001b[0;36m9\u001b[0m\u001b[0;34m)\u001b[0m \u001b[0;31m# Run the recency feature with depth = 3\u001b[0m\u001b[0;34m\u001b[0m\u001b[0;34m\u001b[0m\u001b[0m\n\u001b[0m",
      "\u001b[0;32m<ipython-input-9-372dc3d81d74>\u001b[0m in \u001b[0;36mrecency\u001b[0;34m(depth)\u001b[0m\n\u001b[1;32m     90\u001b[0m                 \u001b[0mnew_data\u001b[0m\u001b[0;34m.\u001b[0m\u001b[0mloc\u001b[0m\u001b[0;34m[\u001b[0m\u001b[0mindex\u001b[0m\u001b[0;34m[\u001b[0m\u001b[0mj\u001b[0m\u001b[0;34m+\u001b[0m\u001b[0mdepth\u001b[0m\u001b[0;34m]\u001b[0m\u001b[0;34m,\u001b[0m \u001b[0;34m\"away_strength\"\u001b[0m\u001b[0;34m]\u001b[0m \u001b[0;34m=\u001b[0m \u001b[0mcount\u001b[0m\u001b[0;34m/\u001b[0m\u001b[0mdepth\u001b[0m\u001b[0;34m\u001b[0m\u001b[0;34m\u001b[0m\u001b[0m\n\u001b[1;32m     91\u001b[0m         \u001b[0;32mfor\u001b[0m \u001b[0mx\u001b[0m \u001b[0;32min\u001b[0m \u001b[0mindex\u001b[0m\u001b[0;34m:\u001b[0m\u001b[0;34m\u001b[0m\u001b[0;34m\u001b[0m\u001b[0m\n\u001b[0;32m---> 92\u001b[0;31m             \u001b[0mepl\u001b[0m\u001b[0;34m.\u001b[0m\u001b[0mloc\u001b[0m\u001b[0;34m[\u001b[0m\u001b[0mx\u001b[0m\u001b[0;34m]\u001b[0m \u001b[0;34m=\u001b[0m \u001b[0mnew_data\u001b[0m\u001b[0;34m.\u001b[0m\u001b[0mloc\u001b[0m\u001b[0;34m[\u001b[0m\u001b[0mx\u001b[0m\u001b[0;34m]\u001b[0m\u001b[0;34m\u001b[0m\u001b[0;34m\u001b[0m\u001b[0m\n\u001b[0m",
      "\u001b[0;32m~/opt/anaconda3/lib/python3.8/site-packages/pandas/core/indexing.py\u001b[0m in \u001b[0;36m__setitem__\u001b[0;34m(self, key, value)\u001b[0m\n\u001b[1;32m    669\u001b[0m             \u001b[0mkey\u001b[0m \u001b[0;34m=\u001b[0m \u001b[0mcom\u001b[0m\u001b[0;34m.\u001b[0m\u001b[0mapply_if_callable\u001b[0m\u001b[0;34m(\u001b[0m\u001b[0mkey\u001b[0m\u001b[0;34m,\u001b[0m \u001b[0mself\u001b[0m\u001b[0;34m.\u001b[0m\u001b[0mobj\u001b[0m\u001b[0;34m)\u001b[0m\u001b[0;34m\u001b[0m\u001b[0;34m\u001b[0m\u001b[0m\n\u001b[1;32m    670\u001b[0m         \u001b[0mindexer\u001b[0m \u001b[0;34m=\u001b[0m \u001b[0mself\u001b[0m\u001b[0;34m.\u001b[0m\u001b[0m_get_setitem_indexer\u001b[0m\u001b[0;34m(\u001b[0m\u001b[0mkey\u001b[0m\u001b[0;34m)\u001b[0m\u001b[0;34m\u001b[0m\u001b[0;34m\u001b[0m\u001b[0m\n\u001b[0;32m--> 671\u001b[0;31m         \u001b[0mself\u001b[0m\u001b[0;34m.\u001b[0m\u001b[0m_setitem_with_indexer\u001b[0m\u001b[0;34m(\u001b[0m\u001b[0mindexer\u001b[0m\u001b[0;34m,\u001b[0m \u001b[0mvalue\u001b[0m\u001b[0;34m)\u001b[0m\u001b[0;34m\u001b[0m\u001b[0;34m\u001b[0m\u001b[0m\n\u001b[0m\u001b[1;32m    672\u001b[0m \u001b[0;34m\u001b[0m\u001b[0m\n\u001b[1;32m    673\u001b[0m     \u001b[0;32mdef\u001b[0m \u001b[0m_validate_key\u001b[0m\u001b[0;34m(\u001b[0m\u001b[0mself\u001b[0m\u001b[0;34m,\u001b[0m \u001b[0mkey\u001b[0m\u001b[0;34m,\u001b[0m \u001b[0maxis\u001b[0m\u001b[0;34m:\u001b[0m \u001b[0mint\u001b[0m\u001b[0;34m)\u001b[0m\u001b[0;34m:\u001b[0m\u001b[0;34m\u001b[0m\u001b[0;34m\u001b[0m\u001b[0m\n",
      "\u001b[0;32m~/opt/anaconda3/lib/python3.8/site-packages/pandas/core/indexing.py\u001b[0m in \u001b[0;36m_setitem_with_indexer\u001b[0;34m(self, indexer, value)\u001b[0m\n\u001b[1;32m   1022\u001b[0m \u001b[0;34m\u001b[0m\u001b[0m\n\u001b[1;32m   1023\u001b[0m                     \u001b[0;32mfor\u001b[0m \u001b[0mitem\u001b[0m\u001b[0;34m,\u001b[0m \u001b[0mv\u001b[0m \u001b[0;32min\u001b[0m \u001b[0mzip\u001b[0m\u001b[0;34m(\u001b[0m\u001b[0mlabels\u001b[0m\u001b[0;34m,\u001b[0m \u001b[0mvalue\u001b[0m\u001b[0;34m)\u001b[0m\u001b[0;34m:\u001b[0m\u001b[0;34m\u001b[0m\u001b[0;34m\u001b[0m\u001b[0m\n\u001b[0;32m-> 1024\u001b[0;31m                         \u001b[0msetter\u001b[0m\u001b[0;34m(\u001b[0m\u001b[0mitem\u001b[0m\u001b[0;34m,\u001b[0m \u001b[0mv\u001b[0m\u001b[0;34m)\u001b[0m\u001b[0;34m\u001b[0m\u001b[0;34m\u001b[0m\u001b[0m\n\u001b[0m\u001b[1;32m   1025\u001b[0m             \u001b[0;32melse\u001b[0m\u001b[0;34m:\u001b[0m\u001b[0;34m\u001b[0m\u001b[0;34m\u001b[0m\u001b[0m\n\u001b[1;32m   1026\u001b[0m \u001b[0;34m\u001b[0m\u001b[0m\n",
      "\u001b[0;32m~/opt/anaconda3/lib/python3.8/site-packages/pandas/core/indexing.py\u001b[0m in \u001b[0;36msetter\u001b[0;34m(item, v)\u001b[0m\n\u001b[1;32m    943\u001b[0m \u001b[0;34m\u001b[0m\u001b[0m\n\u001b[1;32m    944\u001b[0m             \u001b[0;32mdef\u001b[0m \u001b[0msetter\u001b[0m\u001b[0;34m(\u001b[0m\u001b[0mitem\u001b[0m\u001b[0;34m,\u001b[0m \u001b[0mv\u001b[0m\u001b[0;34m)\u001b[0m\u001b[0;34m:\u001b[0m\u001b[0;34m\u001b[0m\u001b[0;34m\u001b[0m\u001b[0m\n\u001b[0;32m--> 945\u001b[0;31m                 \u001b[0ms\u001b[0m \u001b[0;34m=\u001b[0m \u001b[0mself\u001b[0m\u001b[0;34m.\u001b[0m\u001b[0mobj\u001b[0m\u001b[0;34m[\u001b[0m\u001b[0mitem\u001b[0m\u001b[0;34m]\u001b[0m\u001b[0;34m\u001b[0m\u001b[0;34m\u001b[0m\u001b[0m\n\u001b[0m\u001b[1;32m    946\u001b[0m                 \u001b[0mpi\u001b[0m \u001b[0;34m=\u001b[0m \u001b[0mplane_indexer\u001b[0m\u001b[0;34m[\u001b[0m\u001b[0;36m0\u001b[0m\u001b[0;34m]\u001b[0m \u001b[0;32mif\u001b[0m \u001b[0mlplane_indexer\u001b[0m \u001b[0;34m==\u001b[0m \u001b[0;36m1\u001b[0m \u001b[0;32melse\u001b[0m \u001b[0mplane_indexer\u001b[0m\u001b[0;34m\u001b[0m\u001b[0;34m\u001b[0m\u001b[0m\n\u001b[1;32m    947\u001b[0m \u001b[0;34m\u001b[0m\u001b[0m\n",
      "\u001b[0;32m~/opt/anaconda3/lib/python3.8/site-packages/pandas/core/frame.py\u001b[0m in \u001b[0;36m__getitem__\u001b[0;34m(self, key)\u001b[0m\n\u001b[1;32m   2774\u001b[0m                 \u001b[0;32mif\u001b[0m \u001b[0mself\u001b[0m\u001b[0;34m.\u001b[0m\u001b[0mcolumns\u001b[0m\u001b[0;34m.\u001b[0m\u001b[0mnlevels\u001b[0m \u001b[0;34m>\u001b[0m \u001b[0;36m1\u001b[0m\u001b[0;34m:\u001b[0m\u001b[0;34m\u001b[0m\u001b[0;34m\u001b[0m\u001b[0m\n\u001b[1;32m   2775\u001b[0m                     \u001b[0;32mreturn\u001b[0m \u001b[0mself\u001b[0m\u001b[0;34m.\u001b[0m\u001b[0m_getitem_multilevel\u001b[0m\u001b[0;34m(\u001b[0m\u001b[0mkey\u001b[0m\u001b[0;34m)\u001b[0m\u001b[0;34m\u001b[0m\u001b[0;34m\u001b[0m\u001b[0m\n\u001b[0;32m-> 2776\u001b[0;31m                 \u001b[0;32mreturn\u001b[0m \u001b[0mself\u001b[0m\u001b[0;34m.\u001b[0m\u001b[0m_get_item_cache\u001b[0m\u001b[0;34m(\u001b[0m\u001b[0mkey\u001b[0m\u001b[0;34m)\u001b[0m\u001b[0;34m\u001b[0m\u001b[0;34m\u001b[0m\u001b[0m\n\u001b[0m\u001b[1;32m   2777\u001b[0m \u001b[0;34m\u001b[0m\u001b[0m\n\u001b[1;32m   2778\u001b[0m         \u001b[0;31m# Do we have a slicer (on rows)?\u001b[0m\u001b[0;34m\u001b[0m\u001b[0;34m\u001b[0m\u001b[0;34m\u001b[0m\u001b[0m\n",
      "\u001b[0;32m~/opt/anaconda3/lib/python3.8/site-packages/pandas/core/generic.py\u001b[0m in \u001b[0;36m_get_item_cache\u001b[0;34m(self, item)\u001b[0m\n\u001b[1;32m   3585\u001b[0m         \u001b[0;32mif\u001b[0m \u001b[0mres\u001b[0m \u001b[0;32mis\u001b[0m \u001b[0;32mNone\u001b[0m\u001b[0;34m:\u001b[0m\u001b[0;34m\u001b[0m\u001b[0;34m\u001b[0m\u001b[0m\n\u001b[1;32m   3586\u001b[0m             \u001b[0mvalues\u001b[0m \u001b[0;34m=\u001b[0m \u001b[0mself\u001b[0m\u001b[0;34m.\u001b[0m\u001b[0m_data\u001b[0m\u001b[0;34m.\u001b[0m\u001b[0mget\u001b[0m\u001b[0;34m(\u001b[0m\u001b[0mitem\u001b[0m\u001b[0;34m)\u001b[0m\u001b[0;34m\u001b[0m\u001b[0;34m\u001b[0m\u001b[0m\n\u001b[0;32m-> 3587\u001b[0;31m             \u001b[0mres\u001b[0m \u001b[0;34m=\u001b[0m \u001b[0mself\u001b[0m\u001b[0;34m.\u001b[0m\u001b[0m_box_item_values\u001b[0m\u001b[0;34m(\u001b[0m\u001b[0mitem\u001b[0m\u001b[0;34m,\u001b[0m \u001b[0mvalues\u001b[0m\u001b[0;34m)\u001b[0m\u001b[0;34m\u001b[0m\u001b[0;34m\u001b[0m\u001b[0m\n\u001b[0m\u001b[1;32m   3588\u001b[0m             \u001b[0mcache\u001b[0m\u001b[0;34m[\u001b[0m\u001b[0mitem\u001b[0m\u001b[0;34m]\u001b[0m \u001b[0;34m=\u001b[0m \u001b[0mres\u001b[0m\u001b[0;34m\u001b[0m\u001b[0;34m\u001b[0m\u001b[0m\n\u001b[1;32m   3589\u001b[0m             \u001b[0mres\u001b[0m\u001b[0;34m.\u001b[0m\u001b[0m_set_as_cached\u001b[0m\u001b[0;34m(\u001b[0m\u001b[0mitem\u001b[0m\u001b[0;34m,\u001b[0m \u001b[0mself\u001b[0m\u001b[0;34m)\u001b[0m\u001b[0;34m\u001b[0m\u001b[0;34m\u001b[0m\u001b[0m\n",
      "\u001b[0;32m~/opt/anaconda3/lib/python3.8/site-packages/pandas/core/frame.py\u001b[0m in \u001b[0;36m_box_item_values\u001b[0;34m(self, key, values)\u001b[0m\n\u001b[1;32m   3069\u001b[0m             \u001b[0;32mreturn\u001b[0m \u001b[0mself\u001b[0m\u001b[0;34m.\u001b[0m\u001b[0m_constructor\u001b[0m\u001b[0;34m(\u001b[0m\u001b[0mvalues\u001b[0m\u001b[0;34m.\u001b[0m\u001b[0mT\u001b[0m\u001b[0;34m,\u001b[0m \u001b[0mcolumns\u001b[0m\u001b[0;34m=\u001b[0m\u001b[0mitems\u001b[0m\u001b[0;34m,\u001b[0m \u001b[0mindex\u001b[0m\u001b[0;34m=\u001b[0m\u001b[0mself\u001b[0m\u001b[0;34m.\u001b[0m\u001b[0mindex\u001b[0m\u001b[0;34m)\u001b[0m\u001b[0;34m\u001b[0m\u001b[0;34m\u001b[0m\u001b[0m\n\u001b[1;32m   3070\u001b[0m         \u001b[0;32melse\u001b[0m\u001b[0;34m:\u001b[0m\u001b[0;34m\u001b[0m\u001b[0;34m\u001b[0m\u001b[0m\n\u001b[0;32m-> 3071\u001b[0;31m             \u001b[0;32mreturn\u001b[0m \u001b[0mself\u001b[0m\u001b[0;34m.\u001b[0m\u001b[0m_box_col_values\u001b[0m\u001b[0;34m(\u001b[0m\u001b[0mvalues\u001b[0m\u001b[0;34m,\u001b[0m \u001b[0mitems\u001b[0m\u001b[0;34m)\u001b[0m\u001b[0;34m\u001b[0m\u001b[0;34m\u001b[0m\u001b[0m\n\u001b[0m\u001b[1;32m   3072\u001b[0m \u001b[0;34m\u001b[0m\u001b[0m\n\u001b[1;32m   3073\u001b[0m     \u001b[0;32mdef\u001b[0m \u001b[0m_box_col_values\u001b[0m\u001b[0;34m(\u001b[0m\u001b[0mself\u001b[0m\u001b[0;34m,\u001b[0m \u001b[0mvalues\u001b[0m\u001b[0;34m,\u001b[0m \u001b[0mitems\u001b[0m\u001b[0;34m)\u001b[0m\u001b[0;34m:\u001b[0m\u001b[0;34m\u001b[0m\u001b[0;34m\u001b[0m\u001b[0m\n",
      "\u001b[0;32m~/opt/anaconda3/lib/python3.8/site-packages/pandas/core/frame.py\u001b[0m in \u001b[0;36m_box_col_values\u001b[0;34m(self, values, items)\u001b[0m\n\u001b[1;32m   3076\u001b[0m         \"\"\"\n\u001b[1;32m   3077\u001b[0m         \u001b[0mklass\u001b[0m \u001b[0;34m=\u001b[0m \u001b[0mself\u001b[0m\u001b[0;34m.\u001b[0m\u001b[0m_constructor_sliced\u001b[0m\u001b[0;34m\u001b[0m\u001b[0;34m\u001b[0m\u001b[0m\n\u001b[0;32m-> 3078\u001b[0;31m         \u001b[0;32mreturn\u001b[0m \u001b[0mklass\u001b[0m\u001b[0;34m(\u001b[0m\u001b[0mvalues\u001b[0m\u001b[0;34m,\u001b[0m \u001b[0mindex\u001b[0m\u001b[0;34m=\u001b[0m\u001b[0mself\u001b[0m\u001b[0;34m.\u001b[0m\u001b[0mindex\u001b[0m\u001b[0;34m,\u001b[0m \u001b[0mname\u001b[0m\u001b[0;34m=\u001b[0m\u001b[0mitems\u001b[0m\u001b[0;34m,\u001b[0m \u001b[0mfastpath\u001b[0m\u001b[0;34m=\u001b[0m\u001b[0;32mTrue\u001b[0m\u001b[0;34m)\u001b[0m\u001b[0;34m\u001b[0m\u001b[0;34m\u001b[0m\u001b[0m\n\u001b[0m\u001b[1;32m   3079\u001b[0m \u001b[0;34m\u001b[0m\u001b[0m\n\u001b[1;32m   3080\u001b[0m     \u001b[0;31m# ----------------------------------------------------------------------\u001b[0m\u001b[0;34m\u001b[0m\u001b[0;34m\u001b[0m\u001b[0;34m\u001b[0m\u001b[0m\n",
      "\u001b[0;32m~/opt/anaconda3/lib/python3.8/site-packages/pandas/core/series.py\u001b[0m in \u001b[0;36m__init__\u001b[0;34m(self, data, index, dtype, name, copy, fastpath)\u001b[0m\n\u001b[1;32m    308\u001b[0m \u001b[0;34m\u001b[0m\u001b[0m\n\u001b[1;32m    309\u001b[0m         \u001b[0mgeneric\u001b[0m\u001b[0;34m.\u001b[0m\u001b[0mNDFrame\u001b[0m\u001b[0;34m.\u001b[0m\u001b[0m__init__\u001b[0m\u001b[0;34m(\u001b[0m\u001b[0mself\u001b[0m\u001b[0;34m,\u001b[0m \u001b[0mdata\u001b[0m\u001b[0;34m,\u001b[0m \u001b[0mfastpath\u001b[0m\u001b[0;34m=\u001b[0m\u001b[0;32mTrue\u001b[0m\u001b[0;34m)\u001b[0m\u001b[0;34m\u001b[0m\u001b[0;34m\u001b[0m\u001b[0m\n\u001b[0;32m--> 310\u001b[0;31m         \u001b[0mself\u001b[0m\u001b[0;34m.\u001b[0m\u001b[0mname\u001b[0m \u001b[0;34m=\u001b[0m \u001b[0mname\u001b[0m\u001b[0;34m\u001b[0m\u001b[0;34m\u001b[0m\u001b[0m\n\u001b[0m\u001b[1;32m    311\u001b[0m         \u001b[0mself\u001b[0m\u001b[0;34m.\u001b[0m\u001b[0m_set_axis\u001b[0m\u001b[0;34m(\u001b[0m\u001b[0;36m0\u001b[0m\u001b[0;34m,\u001b[0m \u001b[0mindex\u001b[0m\u001b[0;34m,\u001b[0m \u001b[0mfastpath\u001b[0m\u001b[0;34m=\u001b[0m\u001b[0;32mTrue\u001b[0m\u001b[0;34m)\u001b[0m\u001b[0;34m\u001b[0m\u001b[0;34m\u001b[0m\u001b[0m\n\u001b[1;32m    312\u001b[0m \u001b[0;34m\u001b[0m\u001b[0m\n",
      "\u001b[0;32m~/opt/anaconda3/lib/python3.8/site-packages/pandas/core/generic.py\u001b[0m in \u001b[0;36m__setattr__\u001b[0;34m(self, name, value)\u001b[0m\n\u001b[1;32m   5287\u001b[0m             \u001b[0;32mreturn\u001b[0m \u001b[0mobject\u001b[0m\u001b[0;34m.\u001b[0m\u001b[0m__setattr__\u001b[0m\u001b[0;34m(\u001b[0m\u001b[0mself\u001b[0m\u001b[0;34m,\u001b[0m \u001b[0mname\u001b[0m\u001b[0;34m,\u001b[0m \u001b[0mvalue\u001b[0m\u001b[0;34m)\u001b[0m\u001b[0;34m\u001b[0m\u001b[0;34m\u001b[0m\u001b[0m\n\u001b[1;32m   5288\u001b[0m         \u001b[0;32mexcept\u001b[0m \u001b[0mAttributeError\u001b[0m\u001b[0;34m:\u001b[0m\u001b[0;34m\u001b[0m\u001b[0;34m\u001b[0m\u001b[0m\n\u001b[0;32m-> 5289\u001b[0;31m             \u001b[0;32mpass\u001b[0m\u001b[0;34m\u001b[0m\u001b[0;34m\u001b[0m\u001b[0m\n\u001b[0m\u001b[1;32m   5290\u001b[0m \u001b[0;34m\u001b[0m\u001b[0m\n\u001b[1;32m   5291\u001b[0m         \u001b[0;31m# if this fails, go on to more involved attribute setting\u001b[0m\u001b[0;34m\u001b[0m\u001b[0;34m\u001b[0m\u001b[0;34m\u001b[0m\u001b[0m\n",
      "\u001b[0;31mKeyboardInterrupt\u001b[0m: "
     ]
    }
   ],
   "source": [
    "recency(depth = 9) # Run the recency feature with depth = 9"
   ]
  },
  {
   "cell_type": "code",
   "execution_count": null,
   "metadata": {},
   "outputs": [],
   "source": [
    "# aggregated file to csv file\n",
    "epl.to_csv(\"/Users/bradyhong/Downloads/recency.csv\")"
   ]
  },
  {
   "cell_type": "code",
   "execution_count": 12,
   "metadata": {},
   "outputs": [],
   "source": [
    "# Read back from the csv file\n",
    "recencys = pd.read_csv(\"/Users/bradyhong/Downloads/recency.csv\")"
   ]
  },
  {
   "cell_type": "code",
   "execution_count": 15,
   "metadata": {
    "scrolled": true
   },
   "outputs": [],
   "source": [
    "# Fill the NAN with mean of each features\n",
    "for i in range(len(recencys)):\n",
    "    for j in range(9):\n",
    "        recencys[\"t-\"+str(j+1)+\" home_attacking\"].fillna(recencys[\"t-\"+str(j+1)+\" home_attacking\"].mean(),inplace = True)\n",
    "        recencys[\"t-\"+str(j+1)+\" home_defending\"].fillna(recencys[\"t-\"+str(j+1)+\" home_defending\"].mean(),inplace = True)\n",
    "        recencys[\"t-\"+str(j+1)+\" home_home\"].fillna(recencys[\"t-\"+str(j+1)+\" home_home\"].mean(),inplace = True)    \n",
    "        recencys[\"t-\"+str(j+1)+\" home_strength\"].fillna(recencys[\"t-\"+str(j+1)+\" home_strength\"].mean(),inplace = True)\n",
    "        recencys[\"t-\"+str(j+1)+\" away_attacking\"].fillna(recencys[\"t-\"+str(j+1)+\" away_attacking\"].mean(),inplace = True)\n",
    "        recencys[\"t-\"+str(j+1)+\" away_defending\"].fillna(recencys[\"t-\"+str(j+1)+\" away_defending\"].mean(),inplace = True)\n",
    "        recencys[\"t-\"+str(j+1)+\" away_home\"].fillna(recencys[\"t-\"+str(j+1)+\" away_home\"].mean(),inplace = True)\n",
    "        recencys[\"t-\"+str(j+1)+\" away_strength\"].fillna(recencys[\"t-\"+str(j+1)+\" away_strength\"].mean(),inplace = True)\n",
    "        recencys[\"t-\"+str(j+1)+\" home_posession\"].fillna(recencys[\"t-\"+str(j+1)+\" home_posession\"].mean(),inplace = True)\n",
    "        recencys[\"t-\"+str(j+1)+\" home_shots_on_target\"].fillna(recencys[\"t-\"+str(j+1)+\" home_shots_on_target\"].mean(),inplace = True)\n",
    "        recencys[\"t-\"+str(j+1)+\" home_clearance\"].fillna(recencys[\"t-\"+str(j+1)+\" home_clearance\"].mean(),inplace = True)    \n",
    "        recencys[\"t-\"+str(j+1)+\" home_tackles\"].fillna(recencys[\"t-\"+str(j+1)+\" home_tackles\"].mean(),inplace = True)\n",
    "        recencys[\"t-\"+str(j+1)+\" away_posession\"].fillna(recencys[\"t-\"+str(j+1)+\" away_posession\"].mean(),inplace = True)\n",
    "        recencys[\"t-\"+str(j+1)+\" away_shots_on_target\"].fillna(recencys[\"t-\"+str(j+1)+\" away_shots_on_target\"].mean(),inplace = True)\n",
    "        recencys[\"t-\"+str(j+1)+\" away_clearance\"].fillna(recencys[\"t-\"+str(j+1)+\" away_clearance\"].mean(),inplace = True)\n",
    "        recencys[\"t-\"+str(j+1)+\" away_tackles\"].fillna(recencys[\"t-\"+str(j+1)+\" away_tackles\"].mean(),inplace = True)\n",
    "        "
   ]
  },
  {
   "cell_type": "code",
   "execution_count": 16,
   "metadata": {},
   "outputs": [],
   "source": [
    "# filled null values version to csv file\n",
    "recencys.to_csv(\"/Users/bradyhong/Downloads/recency_filled_null.csv\")"
   ]
  }
 ],
 "metadata": {
  "kernelspec": {
   "display_name": "Python 3",
   "language": "python",
   "name": "python3"
  },
  "language_info": {
   "codemirror_mode": {
    "name": "ipython",
    "version": 3
   },
   "file_extension": ".py",
   "mimetype": "text/x-python",
   "name": "python",
   "nbconvert_exporter": "python",
   "pygments_lexer": "ipython3",
   "version": "3.8.3"
  }
 },
 "nbformat": 4,
 "nbformat_minor": 4
}
