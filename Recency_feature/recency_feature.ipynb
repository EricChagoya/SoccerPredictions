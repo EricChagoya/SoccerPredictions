{
 "cells": [
  {
   "cell_type": "code",
   "execution_count": 1,
   "metadata": {},
   "outputs": [],
   "source": [
    "import pandas as pd\n",
    "import time\n",
    "import datetime\n",
    "import csv\n",
    "pd.set_option('mode.chained_assignment',  None)"
   ]
  },
  {
   "cell_type": "code",
   "execution_count": 13,
   "metadata": {},
   "outputs": [],
   "source": [
    "# Read Combined Dataset downloaded from the github\n",
    "epl = pd.read_csv(\"/Users/bradyhong/Downloads/SoccerPredictions-afe206f8403d87d12fa83bcb62d708820034eac7/Data/Combined_Data.csv\")"
   ]
  },
  {
   "cell_type": "code",
   "execution_count": 14,
   "metadata": {},
   "outputs": [],
   "source": [
    "# Get the all the possible teams\n",
    "epl_team = set()\n",
    "epl.home_team\n",
    "for i in epl.home_team:\n",
    "    epl_team.add(i)"
   ]
  },
  {
   "cell_type": "code",
   "execution_count": 41,
   "metadata": {},
   "outputs": [],
   "source": [
    "# Making features and aggregate them to the combined dataset\n",
    "def recency(depth):\n",
    "    for a in range(depth):\n",
    "        # Making features\n",
    "        epl[\"t-\"+str(a+1)+\" home_attacking\"] = 0\n",
    "        epl[\"t-\"+str(a+1)+\" home_defending\"] = 0\n",
    "        epl[\"t-\"+str(a+1)+\" home_home\"] = 0\n",
    "        epl[\"t-\"+str(a+1)+\" home_oppstrength\"] = 0\n",
    "        epl[\"home_strength\"] = 0\n",
    "        epl[\"t-\"+str(a+1)+\" away_home\"] = 0\n",
    "        epl[\"t-\"+str(a+1)+\" away_attacking\"] = 0\n",
    "        epl[\"t-\"+str(a+1)+\" away_defending\"] = 0\n",
    "        epl[\"t-\"+str(a+1)+\" away_oppstrength\"] = 0\n",
    "        epl[\"away_strength\"] = 0\n",
    "    for i in epl_team:\n",
    "        home = pd.DataFrame(epl[epl.home_team == i])\n",
    "        away = pd.DataFrame(epl[epl.away_team == i])\n",
    "        new_data = pd.concat([home, away]).sort_index() # Dataset for each team i\n",
    "        index = new_data.index \n",
    "        for j in range(len(index)-depth):\n",
    "            if new_data.loc[index[j+depth], \"home_team\"] == i:\n",
    "                count = 0\n",
    "                for c in range(depth):\n",
    "                    past = new_data.loc[index[j+depth-c-1]]\n",
    "                    if i == past.home_team:\n",
    "                        new_data.loc[index[j+depth], \"t-\"+str(c+1)+\" home_attacking\"] = past.home_score\n",
    "                        new_data.loc[index[j+depth], \"t-\"+str(c+1)+\" home_defending\"] = past.away_score\n",
    "                        new_data.loc[index[j+depth], \"t-\"+str(c+1)+\" home_home\"] = 1\n",
    "                        new_data.loc[index[j+depth], \"t-\"+str(c+1)+\" home_oppstrength\"] = past.away_strength\n",
    "                        count = count + int(past.home_score) - int(past.away_score)\n",
    "                    else:\n",
    "                        new_data.loc[index[j+depth], \"t-\"+str(c+1)+\" home_attacking\"] = past.away_score\n",
    "                        new_data.loc[index[j+depth], \"t-\"+str(c+1)+\" home_defending\"] = past.home_score\n",
    "                        new_data.loc[index[j+depth], \"t-\"+str(c+1)+\" home_home\"] = -1\n",
    "                        new_data.loc[index[j+depth], \"t-\"+str(c+1)+\" home_oppstrength\"] = past.home_strength\n",
    "                        count = count + int(past.away_score) - int(past.home_score)\n",
    "                new_data.loc[index[j+depth], \"home_strength\"] = count/depth\n",
    "            else:\n",
    "                count = 0\n",
    "                for d in range(depth):\n",
    "                    past = new_data.loc[index[j+depth-d-1]]\n",
    "                    if i == past.home_team:\n",
    "                        new_data.loc[index[j+depth], \"t-\"+str(d+1)+\" away_attacking\"] = past.home_score\n",
    "                        new_data.loc[index[j+depth], \"t-\"+str(d+1)+\" away_defending\"] = past.away_score\n",
    "                        new_data.loc[index[j+depth], \"t-\"+str(d+1)+\" away_home\"] = 1\n",
    "                        new_data.loc[index[j+depth], \"t-\"+str(d+1)+\" away_oppstrength\"] = past.away_strength\n",
    "                        count = count + int(past.home_score) - int(past.away_score)\n",
    "                    else:\n",
    "                        new_data.loc[index[j+depth], \"t-\"+str(d+1)+\" away_attacking\"] = past.away_score\n",
    "                        new_data.loc[index[j+depth], \"t-\"+str(d+1)+\" away_defending\"] = past.home_score\n",
    "                        new_data.loc[index[j+depth], \"t-\"+str(d+1)+\" away_home\"] = -1\n",
    "                        new_data.loc[index[j+depth], \"t-\"+str(d+1)+\" away_oppstrength\"] = past.home_strength\n",
    "                        count = count + int(past.away_score) - int(past.home_score)\n",
    "                new_data.loc[index[j+depth], \"away_strength\"] = count/depth\n",
    "        for x in index:\n",
    "            epl.loc[x] = new_data.loc[x]"
   ]
  },
  {
   "cell_type": "code",
   "execution_count": 42,
   "metadata": {},
   "outputs": [],
   "source": [
    "recency(depth = 3) # Run the recency feature with depth = 3 "
   ]
  },
  {
   "cell_type": "code",
   "execution_count": 43,
   "metadata": {},
   "outputs": [],
   "source": [
    "epl.to_csv(\"recency.csv\")"
   ]
  },
  {
   "cell_type": "code",
   "execution_count": 45,
   "metadata": {},
   "outputs": [],
   "source": [
    "# Just to extract recency features only for depth 3\n",
    "extract = epl[['home_team','away_team','home_score','away_score','home_strength','away_strength',\n",
    "               't-3 home_attacking', 't-3 home_defending','t-3 home_oppstrength', 't-3 home_home',\n",
    "               't-3 away_attacking','t-3 away_defending','t-3 away_oppstrength', 't-3 away_home',\n",
    "               't-2 home_attacking','t-2 home_defending','t-2 home_oppstrength','t-2 home_home',\n",
    "               't-2 away_attacking', 't-2 away_defending','t-2 away_oppstrength', 't-2 away_home',\n",
    "               't-1 home_attacking', 't-1 home_defending','t-1 home_oppstrength', 't-1 home_home',\n",
    "               't-1 away_attacking', 't-1 away_defending','t-1 away_oppstrength','t-1 away_home']]"
   ]
  },
  {
   "cell_type": "code",
   "execution_count": 46,
   "metadata": {},
   "outputs": [],
   "source": [
    "extract.to_csv(\"extract.csv\")"
   ]
  },
  {
   "cell_type": "code",
   "execution_count": 47,
   "metadata": {},
   "outputs": [],
   "source": [
    "MU = pd.DataFrame(extract[extract.home_team == 'Manchester United'])"
   ]
  },
  {
   "cell_type": "code",
   "execution_count": 48,
   "metadata": {},
   "outputs": [],
   "source": [
    "MU2 = pd.DataFrame(extract[extract.away_team == 'Manchester United'])"
   ]
  },
  {
   "cell_type": "code",
   "execution_count": 49,
   "metadata": {},
   "outputs": [],
   "source": [
    "MU_data = pd.concat([MU, MU2]).sort_index() # Just make the data for Manchester United"
   ]
  },
  {
   "cell_type": "code",
   "execution_count": 50,
   "metadata": {},
   "outputs": [],
   "source": [
    "MU_data.to_csv(\"mu.csv\")"
   ]
  },
  {
   "cell_type": "code",
   "execution_count": 51,
   "metadata": {},
   "outputs": [],
   "source": [
    "recency(depth = 2)"
   ]
  },
  {
   "cell_type": "code",
   "execution_count": 52,
   "metadata": {},
   "outputs": [],
   "source": [
    "for_presentation = epl[['home_team','away_team',\n",
    "               't-2 home_attacking','t-2 home_defending','t-2 home_oppstrength','t-2 home_home',\n",
    "               't-2 away_attacking', 't-2 away_defending','t-2 away_oppstrength', 't-2 away_home',\n",
    "               't-1 home_attacking', 't-1 home_defending','t-1 home_oppstrength', 't-1 home_home',\n",
    "               't-1 away_attacking', 't-1 away_defending','t-1 away_oppstrength','t-1 away_home']]"
   ]
  },
  {
   "cell_type": "code",
   "execution_count": 53,
   "metadata": {},
   "outputs": [],
   "source": [
    "MU3 = pd.DataFrame(for_presentation[for_presentation.home_team == 'Manchester United'])"
   ]
  },
  {
   "cell_type": "code",
   "execution_count": 54,
   "metadata": {},
   "outputs": [],
   "source": [
    "MU4 = pd.DataFrame(for_presentation[for_presentation.away_team == 'Manchester United'])"
   ]
  },
  {
   "cell_type": "code",
   "execution_count": 55,
   "metadata": {},
   "outputs": [],
   "source": [
    "MU2_data = pd.concat([MU3, MU4]).sort_index()"
   ]
  },
  {
   "cell_type": "code",
   "execution_count": null,
   "metadata": {},
   "outputs": [],
   "source": []
  },
  {
   "cell_type": "code",
   "execution_count": 56,
   "metadata": {},
   "outputs": [],
   "source": [
    "presentation = MU2_data.tail(30)"
   ]
  },
  {
   "cell_type": "code",
   "execution_count": 57,
   "metadata": {},
   "outputs": [],
   "source": [
    "presentation.to_csv(\"presentation.csv\")"
   ]
  },
  {
   "cell_type": "code",
   "execution_count": null,
   "metadata": {},
   "outputs": [],
   "source": []
  }
 ],
 "metadata": {
  "kernelspec": {
   "display_name": "Python 3",
   "language": "python",
   "name": "python3"
  },
  "language_info": {
   "codemirror_mode": {
    "name": "ipython",
    "version": 3
   },
   "file_extension": ".py",
   "mimetype": "text/x-python",
   "name": "python",
   "nbconvert_exporter": "python",
   "pygments_lexer": "ipython3",
   "version": "3.8.3"
  }
 },
 "nbformat": 4,
 "nbformat_minor": 4
}
